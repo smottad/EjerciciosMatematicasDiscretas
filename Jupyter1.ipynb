{
  "metadata": {
    "language_info": {
      "codemirror_mode": {
        "name": "python",
        "version": 3
      },
      "file_extension": ".py",
      "mimetype": "text/x-python",
      "name": "python",
      "nbconvert_exporter": "python",
      "pygments_lexer": "ipython3",
      "version": "3.8"
    },
    "kernelspec": {
      "name": "python",
      "display_name": "Python (Pyodide)",
      "language": "python"
    }
  },
  "nbformat_minor": 4,
  "nbformat": 4,
  "cells": [
    {
      "cell_type": "code",
      "source": "import numpy as np\n\n# Definimos la función para verificar la propiedad asociativa\ndef is_associative(table):\n    n = len(table)\n    for i in range(n):\n        for j in range(n):\n            for k in range(n):\n                if table[table[i][j]][k] != table[i][table[j][k]]:\n                    return False\n    return True\n",
      "metadata": {
        "trusted": true
      },
      "execution_count": 2,
      "outputs": []
    },
    {
      "cell_type": "code",
      "source": "# Definimos la función para verificar la existencia de un elemento identidad\ndef has_identity_element(table):\n    n = len(table)\n    for i in range(n):\n        identity = True\n        for j in range(n):\n            if table[i][j] != j or table[j][i] != j:\n                identity = False\n                break\n        if identity:\n            return True\n    return False",
      "metadata": {
        "trusted": true
      },
      "execution_count": 3,
      "outputs": []
    },
    {
      "cell_type": "code",
      "source": "# Definimos la función para verificar la existencia de inversos\ndef has_inverses(table):\n    n = len(table)\n    for i in range(n):\n        has_inverse = False\n        for j in range(n):\n            if table[i][j] == 0 and table[j][i] == 0:\n                has_inverse = True\n                break\n        if not has_inverse:\n            return False\n    return True\n",
      "metadata": {
        "trusted": true
      },
      "execution_count": 4,
      "outputs": []
    },
    {
      "cell_type": "code",
      "source": "# Definimos la función para verificar si una tabla es un grupo\ndef is_group(table):\n    return is_associative(table) and has_identity_element(table) and has_inverses(table)\n\n# Ejemplo de uso\ntable = np.array([[0, 1, 2], [1, 2, 0], [2, 0, 1]])\nif is_group(table):\n    print(\"La tabla representa un grupo\")\nelse:\n    print(\"La tabla no representa un grupo\")\n",
      "metadata": {
        "trusted": true
      },
      "execution_count": 5,
      "outputs": [
        {
          "name": "stdout",
          "text": "La tabla representa un grupo\n",
          "output_type": "stream"
        }
      ]
    },
    {
      "cell_type": "code",
      "source": "# Definimos la función para verificar si una tabla es un grupo\ndef is_group(table):\n    return is_associative(table) and has_identity_element(table) and has_inverses(table)\n\n# Ejemplo de uso\ntable = np.array([[0, 2, 2], [1, 2, 0], [2, 0, 1]])\nif is_group(table):\n    print(\"La tabla representa un grupo\")\nelse:\n    print(\"La tabla no representa un grupo\")",
      "metadata": {
        "trusted": true
      },
      "execution_count": 7,
      "outputs": [
        {
          "name": "stdout",
          "text": "La tabla no representa un grupo\n",
          "output_type": "stream"
        }
      ]
    },
    {
      "cell_type": "code",
      "source": "",
      "metadata": {},
      "execution_count": null,
      "outputs": []
    },
    {
      "cell_type": "code",
      "source": "",
      "metadata": {},
      "execution_count": null,
      "outputs": []
    }
  ]
}