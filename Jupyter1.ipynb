{
  "metadata": {
    "language_info": {
      "codemirror_mode": {
        "name": "python",
        "version": 3
      },
      "file_extension": ".py",
      "mimetype": "text/x-python",
      "name": "python",
      "nbconvert_exporter": "python",
      "pygments_lexer": "ipython3",
      "version": "3.8"
    },
    "kernelspec": {
      "name": "python",
      "display_name": "Python (Pyodide)",
      "language": "python"
    }
  },
  "nbformat_minor": 4,
  "nbformat": 4,
  "cells": [
    {
      "cell_type": "code",
      "source": "import numpy as np\n\n# Definimos la función para verificar la propiedad asociativa\ndef es_asociativa(tabla, size):\n    for i in range(size):\n        for j in range(size):\n            for k in range(size):\n                if tabla[tabla[i][j]][k] != tabla[i][tabla[j][k]]:\n                    return False\n    return True\n",
      "metadata": {
        "trusted": true
      },
      "execution_count": 23,
      "outputs": []
    },
    {
      "cell_type": "code",
      "source": "# Definimos la función para verificar la existencia de un elemento identidad\ndef comprobar_elemento_identidad(tabla, size):\n    for i in range(size):\n        identidad = True\n        for j in range(size):\n            if tabla[i][j] != j or tabla[j][i] != j:\n                identity = False\n                break\n        if identidad:\n            return True\n    return False",
      "metadata": {
        "trusted": true
      },
      "execution_count": 24,
      "outputs": []
    },
    {
      "cell_type": "code",
      "source": "# Definimos la función para verificar la existencia de inversos\ndef tiene_inversa(tabla, size):\n    for i in range(size):\n        tiene_inversa = False\n        for j in range(size):\n            if tabla[i][j] == 0 and tabla[j][i] == 0:\n                tiene_inversa = True\n                break\n        if not tiene_inversa:\n            return False\n    return True",
      "metadata": {
        "trusted": true
      },
      "execution_count": 25,
      "outputs": []
    },
    {
      "cell_type": "code",
      "source": "# Definimos la función para verificar si una tabla es un grupo\ndef es_grupo(tabla, size):\n    return es_asociativa(tabla, size) and comprobar_elemento_identidad(tabla, size) and tiene_inversa(tabla, size)\n\n# Ejemplo de uso\ntabla = np.array([[0, 1, 2], [1, 2, 0], [2, 0, 1]])\nsize = tabla.shape[0]\n\nif es_grupo(tabla, size):\n    print(\"La tabla representa un grupo\")\nelse:\n    print(\"La tabla no representa un grupo\")\n",
      "metadata": {
        "trusted": true
      },
      "execution_count": 26,
      "outputs": [
        {
          "name": "stdout",
          "text": "La tabla representa un grupo\n",
          "output_type": "stream"
        }
      ]
    },
    {
      "cell_type": "code",
      "source": "",
      "metadata": {},
      "execution_count": null,
      "outputs": []
    }
  ]
}