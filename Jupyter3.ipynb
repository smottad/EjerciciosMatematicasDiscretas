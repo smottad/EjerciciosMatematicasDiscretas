{
  "metadata": {
    "language_info": {
      "codemirror_mode": {
        "name": "python",
        "version": 3
      },
      "file_extension": ".py",
      "mimetype": "text/x-python",
      "name": "python",
      "nbconvert_exporter": "python",
      "pygments_lexer": "ipython3",
      "version": "3.8"
    },
    "kernelspec": {
      "name": "python",
      "display_name": "Python (Pyodide)",
      "language": "python"
    }
  },
  "nbformat_minor": 4,
  "nbformat": 4,
  "cells": [
    {
      "cell_type": "code",
      "source": "import math\n\ndef find_sum_of_squares(n):\n    seed = math.floor(math.sqrt(n))\n    squares = [seed]\n    remainder = n - squares[0]**2\n    while remainder > 1:\n        seed = math.floor(math.sqrt(remainder))\n        square = seed\n        if square in squares:\n            # No se puede expresar como suma de 4 cuadrados distintos\n            return False\n        squares.append(square)\n        remainder -= square**2\n    # Verificar si el último número restante es un cuadrado perfecto\n    if math.isqrt(remainder) ** 2 == remainder:\n        squares.append(math.isqrt(remainder))\n        return squares\n    # Restablecer la semilla y repetir el proceso\n    seed = math.floor(math.sqrt(n)) - 1\n    while seed > 0:\n        squares = [seed]\n        remainder = n - squares[0]**2\n        while remainder > 1:\n            seed = math.floor(math.sqrt(remainder))\n            square = seed\n            if square in squares:\n                return False\n            squares.append(square)\n            remainder -= square**2\n        if math.isqrt(remainder) ** 2 == remainder:\n            squares.append(math.isqrt(remainder))\n            return squares\n        seed -= 1\n    return False\n",
      "metadata": {
        "trusted": true
      },
      "execution_count": 57,
      "outputs": []
    },
    {
      "cell_type": "code",
      "source": "find_sum_of_squares(91)",
      "metadata": {
        "trusted": true
      },
      "execution_count": 58,
      "outputs": [
        {
          "execution_count": 58,
          "output_type": "execute_result",
          "data": {
            "text/plain": "[9, 3, 1]"
          },
          "metadata": {}
        }
      ]
    },
    {
      "cell_type": "code",
      "source": "",
      "metadata": {},
      "execution_count": null,
      "outputs": []
    }
  ]
}